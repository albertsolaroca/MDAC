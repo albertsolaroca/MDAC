{
 "cells": [
  {
   "cell_type": "code",
   "execution_count": 22,
   "id": "c3bb0da5",
   "metadata": {},
   "outputs": [],
   "source": [
    "import pandas as pd\n",
    "import matplotlib.pyplot as plt\n",
    "import networkx as nx\n",
    "import numpy as np\n",
    "import sys\n",
    "import os\n",
    "\n",
    "np.set_printoptions(threshold=sys.maxsize)"
   ]
  },
  {
   "cell_type": "code",
   "execution_count": 50,
   "id": "5faf1a58",
   "metadata": {},
   "outputs": [],
   "source": [
    "dirname = os.path.dirname(os.path.realpath('__file__'))\n",
    "subdirname = os.path.join(dirname,'temporal_networks_li')\n",
    "filename = os.path.join(subdirname,'Processed_data','Hospital.csv')"
   ]
  },
  {
   "cell_type": "code",
   "execution_count": 66,
   "id": "868b739f",
   "metadata": {},
   "outputs": [],
   "source": [
    "column_names = ['source', 'target','Timestamp' , 'Time order']\n",
    "data = pd.read_csv(filename,names=column_names)"
   ]
  },
  {
   "cell_type": "code",
   "execution_count": 67,
   "id": "48f63d7f",
   "metadata": {},
   "outputs": [
    {
     "name": "stdout",
     "output_type": "stream",
     "text": [
      "       source  target  Timestamp  Time order\n",
      "0        1157    1232        140           1\n",
      "1        1157    1191        160           2\n",
      "2        1157    1159        500           3\n",
      "3        1157    1159        520           4\n",
      "4        1159    1191        560           5\n",
      "...       ...     ...        ...         ...\n",
      "32419    1295    1629     347600        9451\n",
      "32420    1383    1629     347600        9451\n",
      "32421    1232    1295     347620        9452\n",
      "32422    1383    1629     347620        9452\n",
      "32423    1295    1629     347640        9453\n",
      "\n",
      "[32424 rows x 4 columns]\n"
     ]
    }
   ],
   "source": [
    "print(data)"
   ]
  },
  {
   "cell_type": "code",
   "execution_count": null,
   "id": "a7542760",
   "metadata": {},
   "outputs": [],
   "source": [
    "G = nx.from_pandas_edgelist(data)\n",
    "\n",
    "nx.draw_shell(G)\n",
    "T=data.iloc[-1]['Timestamp']"
   ]
  },
  {
   "cell_type": "code",
   "execution_count": 132,
   "id": "c69b032d",
   "metadata": {},
   "outputs": [],
   "source": [
    "def infection(N,G,temporal_edge_list):\n",
    "    \n",
    "    nx.set_node_attributes(G,False,\"infected\")\n",
    "    G.nodes[N][\"infected\"] = True\n",
    "    infected_nodes_over_time = [0 for i in range(T)]\n",
    "    infected_nodes_over_time[0] = 1\n",
    "    previous_timestamp = 0\n",
    "    for edge in temporal_edge_list:\n",
    "        node1, node2, timestamp,timeorder = edge\n",
    "        if timestamp > previous_timestamp:\n",
    "            newly_infected = []\n",
    "        if G.nodes[node1][\"infected\"] and not G.nodes[node2][\"infected\"] and not node1 in newly_infected:\n",
    "            G.nodes[node2][\"infected\"] = True\n",
    "            infected_nodes_over_time[timestamp-1] += 1\n",
    "            newly_infected.append(node2)\n",
    "        elif G.nodes[node2][\"infected\"] and not G.nodes[node1][\"infected\"] and not node2 in newly_infected:\n",
    "            G.nodes[node1][\"infected\"] = True\n",
    "            infected_nodes_over_time[timestamp-1] += 1\n",
    "            newly_infected.append(node1)\n",
    "        previous_timestamp = timestamp\n",
    "    return np.cumsum(infected_nodes_over_time)"
   ]
  },
  {
   "cell_type": "code",
   "execution_count": 136,
   "id": "50dbd1ad",
   "metadata": {},
   "outputs": [],
   "source": [
    "influence_percent = 0.3\n",
    "percent_N = influence_percent * aggregated_network.number_of_nodes()\n",
    "total_num_infected_at_time_t = []\n",
    "\n",
    "for node in G.nodes:\n",
    "    total_num_infected_at_time_t.append(infection(node,G,data.to_records(index=False)))\n",
    "    \n",
    "count_list = []\n",
    "for node in total_num_infected_at_time_t:\n",
    "        count = 0\n",
    "        last = 0\n",
    "        for timestamp in range(len(node)):\n",
    "            if node[timestamp] > last:\n",
    "                count += (node[timestamp] - last)*timestamp\n",
    "                if node[timestamp] > percent_N:\n",
    "                    count -= (node[timestamp] - percent_N)*timestamp\n",
    "            last = node[timestamp]\n",
    "            if node[timestamp] > percent_N:\n",
    "                count /= percent_N\n",
    "                break\n",
    "        count_list.append(count)\n",
    "\n",
    "count_dict = {list(G.nodes)[i]:count_list[i] for i in range(len(count_list))}"
   ]
  },
  {
   "cell_type": "code",
   "execution_count": null,
   "id": "1cb16eda",
   "metadata": {},
   "outputs": [],
   "source": []
  }
 ],
 "metadata": {
  "kernelspec": {
   "display_name": "Python 3 (ipykernel)",
   "language": "python",
   "name": "python3"
  },
  "language_info": {
   "codemirror_mode": {
    "name": "ipython",
    "version": 3
   },
   "file_extension": ".py",
   "mimetype": "text/x-python",
   "name": "python",
   "nbconvert_exporter": "python",
   "pygments_lexer": "ipython3",
   "version": "3.8.12"
  }
 },
 "nbformat": 4,
 "nbformat_minor": 5
}
